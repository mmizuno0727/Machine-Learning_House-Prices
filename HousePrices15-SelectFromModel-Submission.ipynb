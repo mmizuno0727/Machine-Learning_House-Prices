{
 "cells": [
  {
   "cell_type": "markdown",
   "metadata": {},
   "source": [
    "# House Prices: Advanced Regression Techniques\n",
    "## 予測モデリングの作成"
   ]
  },
  {
   "cell_type": "markdown",
   "metadata": {},
   "source": [
    "<H2>1. 必要なライブラリを読み込む</H2>"
   ]
  },
  {
   "cell_type": "code",
   "execution_count": 319,
   "metadata": {
    "collapsed": true
   },
   "outputs": [],
   "source": [
    "% matplotlib inline\n",
    "\n",
    "import copy\n",
    "import os\n",
    "import sys\n",
    "import datetime\n",
    "\n",
    "import matplotlib\n",
    "import matplotlib.pyplot as plt\n",
    "import numpy as np\n",
    "import pandas as pd\n",
    "from scipy.stats import spearmanr\n",
    "\n",
    "import pyodbc # データベースに接続するため\n",
    "\n",
    "matplotlib.style.use('ggplot')\n",
    "\n",
    "from __future__ import print_function"
   ]
  },
  {
   "cell_type": "markdown",
   "metadata": {},
   "source": [
    "<H2>2. 定数定義</H2>"
   ]
  },
  {
   "cell_type": "code",
   "execution_count": 320,
   "metadata": {
    "collapsed": true
   },
   "outputs": [],
   "source": [
    "CONST_RANDOM_STATE = 1234\n",
    "CONST_TEST_SIZE = 0.3\n",
    "CONST_N_JOBS = -1\n",
    "CONST_CUTOFF_R = 0.5\n",
    "CONST_GRID_SEARCH_PARAMS = {'n_estimators': [200, 225, 250], 'max_depth': [10, 15, 20]}\n",
    "#CONST_GRID_SEARCH_PARAMS = {'n_estimators': [225], 'max_depth': [20]}\n",
    "CONST_FIRST_RMSLE = 1"
   ]
  },
  {
   "cell_type": "markdown",
   "metadata": {},
   "source": [
    "<H2>3. グローバル変数定義</H2>"
   ]
  },
  {
   "cell_type": "code",
   "execution_count": 321,
   "metadata": {
    "collapsed": true
   },
   "outputs": [],
   "source": [
    "gRfParams = {'n_estimators' : 225, 'max_depth' : 15}\n",
    "gDataSet = None\n",
    "gDataSetTest = None\n",
    "gColNames = None\n",
    "gMissingCheck = None\n",
    "gTargetCol = None\n",
    "gExcludeCols = None\n",
    "gFeatureCols = None\n",
    "gRfr = None\n",
    "gRmsle = CONST_FIRST_RMSLE\n",
    "gNewXTrain1 = None\n",
    "gNewXTrain2 = None\n",
    "gNewXTrain = None\n",
    "gNewXTest = None\n",
    "gNewRealXTest = None"
   ]
  },
  {
   "cell_type": "markdown",
   "metadata": {},
   "source": [
    "<H2>4. データの読み込み</H2>"
   ]
  },
  {
   "cell_type": "code",
   "execution_count": 322,
   "metadata": {
    "collapsed": true
   },
   "outputs": [],
   "source": [
    "def get_DataSet(sql) :\n",
    "    # CSV ファイルからデータを読み込む\n",
    "    # gDataSet = pd.read_csv('dataset/train.csv')\n",
    "    \n",
    "    # SQL Server からデータを読み込む\n",
    "    conn = pyodbc.connect('DRIVER={SQL Server};SERVER=.\\SQLEXPRESS;DATABASE=HousePrices;UID=sa;PWD=pass@word1')\n",
    "\n",
    "    # Query database and load the returned results in pandas data frame\n",
    "    dataSet = pd.read_sql(sql, conn)\n",
    "    #dataSet = pd.read_sql('''select * from train''', conn)\n",
    "    \n",
    "    return dataSet"
   ]
  },
  {
   "cell_type": "code",
   "execution_count": 323,
   "metadata": {
    "collapsed": true,
    "scrolled": true
   },
   "outputs": [],
   "source": [
    "gDataSet = get_DataSet('select * from train')"
   ]
  },
  {
   "cell_type": "code",
   "execution_count": 324,
   "metadata": {
    "collapsed": true
   },
   "outputs": [],
   "source": [
    "gDataSetTest = get_DataSet('select * from test')"
   ]
  },
  {
   "cell_type": "markdown",
   "metadata": {},
   "source": [
    "<h2>5. 特徴量の作成</h2>"
   ]
  },
  {
   "cell_type": "markdown",
   "metadata": {},
   "source": [
    "<h3>ダミー変数を作る</h3>\n",
    "<p> 一般的にはカテゴリ変数を機械学習のモデルに投入する際、0と1のダミー変数に変換する。</p>"
   ]
  },
  {
   "cell_type": "code",
   "execution_count": 325,
   "metadata": {
    "collapsed": true
   },
   "outputs": [],
   "source": [
    "# view のデータの種類を確認\n",
    "# dataset['view'].unique()\n",
    "# dataset = pd.get_dummies(data=dataset, columns=['view'])"
   ]
  },
  {
   "cell_type": "markdown",
   "metadata": {},
   "source": [
    "<h3>カラム間の演算</h3>\n",
    "<p>\"LotFrontage/(LotArea/LotFrontage)\"を新たな列として加える。土地の形を長方形と考えた場合において、間口と奥行きの比率を表す。</p>"
   ]
  },
  {
   "cell_type": "code",
   "execution_count": 326,
   "metadata": {},
   "outputs": [
    {
     "name": "stderr",
     "output_type": "stream",
     "text": [
      "C:\\Continuum\\Anaconda3\\lib\\site-packages\\ipykernel\\__main__.py:3: DeprecationWarning: \n",
      ".ix is deprecated. Please use\n",
      ".loc for label based indexing or\n",
      ".iloc for positional indexing\n",
      "\n",
      "See the documentation here:\n",
      "http://pandas.pydata.org/pandas-docs/stable/indexing.html#ix-indexer-is-deprecated\n",
      "  app.launch_new_instance()\n",
      "C:\\Continuum\\Anaconda3\\lib\\site-packages\\ipykernel\\__main__.py:6: DeprecationWarning: \n",
      ".ix is deprecated. Please use\n",
      ".loc for label based indexing or\n",
      ".iloc for positional indexing\n",
      "\n",
      "See the documentation here:\n",
      "http://pandas.pydata.org/pandas-docs/stable/indexing.html#ix-indexer-is-deprecated\n"
     ]
    },
    {
     "data": {
      "text/html": [
       "<div>\n",
       "<style>\n",
       "    .dataframe thead tr:only-child th {\n",
       "        text-align: right;\n",
       "    }\n",
       "\n",
       "    .dataframe thead th {\n",
       "        text-align: left;\n",
       "    }\n",
       "\n",
       "    .dataframe tbody tr th {\n",
       "        vertical-align: top;\n",
       "    }\n",
       "</style>\n",
       "<table border=\"1\" class=\"dataframe\">\n",
       "  <thead>\n",
       "    <tr style=\"text-align: right;\">\n",
       "      <th></th>\n",
       "      <th>Id</th>\n",
       "      <th>LotArea</th>\n",
       "      <th>LotFrontage_Avg</th>\n",
       "      <th>LotRatio</th>\n",
       "    </tr>\n",
       "  </thead>\n",
       "  <tbody>\n",
       "    <tr>\n",
       "      <th>0</th>\n",
       "      <td>1461</td>\n",
       "      <td>11622.0</td>\n",
       "      <td>80.0</td>\n",
       "      <td>0.550680</td>\n",
       "    </tr>\n",
       "    <tr>\n",
       "      <th>1</th>\n",
       "      <td>1462</td>\n",
       "      <td>14267.0</td>\n",
       "      <td>81.0</td>\n",
       "      <td>0.459872</td>\n",
       "    </tr>\n",
       "    <tr>\n",
       "      <th>2</th>\n",
       "      <td>1463</td>\n",
       "      <td>13830.0</td>\n",
       "      <td>74.0</td>\n",
       "      <td>0.395951</td>\n",
       "    </tr>\n",
       "    <tr>\n",
       "      <th>3</th>\n",
       "      <td>1464</td>\n",
       "      <td>9978.0</td>\n",
       "      <td>78.0</td>\n",
       "      <td>0.609741</td>\n",
       "    </tr>\n",
       "    <tr>\n",
       "      <th>4</th>\n",
       "      <td>1465</td>\n",
       "      <td>5005.0</td>\n",
       "      <td>43.0</td>\n",
       "      <td>0.369431</td>\n",
       "    </tr>\n",
       "    <tr>\n",
       "      <th>5</th>\n",
       "      <td>1466</td>\n",
       "      <td>10000.0</td>\n",
       "      <td>75.0</td>\n",
       "      <td>0.562500</td>\n",
       "    </tr>\n",
       "    <tr>\n",
       "      <th>6</th>\n",
       "      <td>1467</td>\n",
       "      <td>7980.0</td>\n",
       "      <td>65.0</td>\n",
       "      <td>0.529449</td>\n",
       "    </tr>\n",
       "    <tr>\n",
       "      <th>7</th>\n",
       "      <td>1468</td>\n",
       "      <td>8402.0</td>\n",
       "      <td>63.0</td>\n",
       "      <td>0.472388</td>\n",
       "    </tr>\n",
       "    <tr>\n",
       "      <th>8</th>\n",
       "      <td>1469</td>\n",
       "      <td>10176.0</td>\n",
       "      <td>85.0</td>\n",
       "      <td>0.710004</td>\n",
       "    </tr>\n",
       "    <tr>\n",
       "      <th>9</th>\n",
       "      <td>1470</td>\n",
       "      <td>8400.0</td>\n",
       "      <td>70.0</td>\n",
       "      <td>0.583333</td>\n",
       "    </tr>\n",
       "  </tbody>\n",
       "</table>\n",
       "</div>"
      ],
      "text/plain": [
       "     Id  LotArea  LotFrontage_Avg  LotRatio\n",
       "0  1461  11622.0             80.0  0.550680\n",
       "1  1462  14267.0             81.0  0.459872\n",
       "2  1463  13830.0             74.0  0.395951\n",
       "3  1464   9978.0             78.0  0.609741\n",
       "4  1465   5005.0             43.0  0.369431\n",
       "5  1466  10000.0             75.0  0.562500\n",
       "6  1467   7980.0             65.0  0.529449\n",
       "7  1468   8402.0             63.0  0.472388\n",
       "8  1469  10176.0             85.0  0.710004\n",
       "9  1470   8400.0             70.0  0.583333"
      ]
     },
     "execution_count": 326,
     "metadata": {},
     "output_type": "execute_result"
    }
   ],
   "source": [
    "# 学習データ\n",
    "gDataSet['LotRatio'] = gDataSet['LotFrontage_Avg']/(gDataSet['LotArea']/gDataSet['LotFrontage_Avg'])\n",
    "gDataSet.ix[0:9][['Id', 'LotArea', 'LotFrontage_Avg', 'LotRatio']]\n",
    "# 検証データ\n",
    "gDataSetTest['LotRatio'] = gDataSetTest['LotFrontage_Avg']/(gDataSetTest['LotArea']/gDataSetTest['LotFrontage_Avg'])\n",
    "gDataSetTest.ix[0:9][['Id', 'LotArea', 'LotFrontage_Avg', 'LotRatio']]"
   ]
  },
  {
   "cell_type": "markdown",
   "metadata": {},
   "source": [
    "<h2>6. ランダムフォレスト用いた予測モデルの構築</h2>"
   ]
  },
  {
   "cell_type": "markdown",
   "metadata": {},
   "source": [
    "<p>ランダムフォレストを用いた機械学習アルゴリズムを試します</p>\n",
    "<p>モデル評価はRMSLEとします</p>"
   ]
  },
  {
   "cell_type": "code",
   "execution_count": 327,
   "metadata": {
    "collapsed": true
   },
   "outputs": [],
   "source": [
    "from sklearn.ensemble import RandomForestRegressor\n",
    "from sklearn.feature_selection import SelectFromModel\n",
    "from sklearn.feature_selection import RFE\n",
    "from sklearn.grid_search import GridSearchCV\n",
    "from sklearn.cross_validation import train_test_split, KFold\n",
    "from sklearn.metrics import mean_squared_error"
   ]
  },
  {
   "cell_type": "markdown",
   "metadata": {},
   "source": [
    "<h3>ターゲット変数と特徴量を指定してsklearnに渡せるように準備する</h3>"
   ]
  },
  {
   "cell_type": "code",
   "execution_count": 328,
   "metadata": {
    "collapsed": true
   },
   "outputs": [],
   "source": [
    "gTargetCol = 'SalePrice'\n",
    "gExcludeCols = ['SalePrice',\n",
    "                'LotFrontage',\n",
    "                'GarageYrBlt',\n",
    "                'Alley',\n",
    "                'BldgType',\n",
    "                'BsmtCond',\n",
    "                'BsmtExposure',\n",
    "                'BsmtFinType1',\n",
    "                'BsmtFinType2',\n",
    "                'BsmtQual',\n",
    "                'CentralAir',\n",
    "                'Condition1',\n",
    "                'Condition2',\n",
    "                'Electrical',\n",
    "                'ExterCond',\n",
    "                'Exterior1st',\n",
    "                'Exterior2nd',\n",
    "                'ExterQual',\n",
    "                'Fence',\n",
    "                'FireplaceQu',\n",
    "                'Foundation',\n",
    "                'Functional',\n",
    "                'GarageCond',\n",
    "                'GarageFinish',\n",
    "                'GarageQual',\n",
    "                'GarageType',\n",
    "                'Heating',\n",
    "                'HeatingQC',\n",
    "                'HouseStyle',\n",
    "                'KitchenQual',\n",
    "                'LandContour',\n",
    "                'LandSlope',\n",
    "                'LotConfig',\n",
    "                'LotShape',\n",
    "                'MasVnrType',\n",
    "                'MiscFeature',\n",
    "                'MSSubClass',\n",
    "                'MSZoning',\n",
    "                'Neighborhood',\n",
    "                'OverallCond',\n",
    "                'OverallQual',\n",
    "                'PavedDrive',\n",
    "                'PoolQC',\n",
    "                'RoofMatl',\n",
    "                'RoofStyle',\n",
    "                'SaleCondition',\n",
    "                'SaleType',\n",
    "                'Street',\n",
    "                'Utilities']\n",
    "\n",
    "gFeatureCols = [col for col in gDataSet.columns if col not in gExcludeCols]"
   ]
  },
  {
   "cell_type": "markdown",
   "metadata": {},
   "source": [
    "<H3>特徴量を割り算で作成</H3>"
   ]
  },
  {
   "cell_type": "code",
   "execution_count": 329,
   "metadata": {
    "collapsed": true
   },
   "outputs": [],
   "source": [
    "def get_NewAddedCols() :\n",
    "    new_added_col = []\n",
    "    for i in range(0, len(gFeatureCols)-1):\n",
    "        for j in range(i+1, len(gFeatureCols)):\n",
    "            first_col_name = gFeatureCols[i]\n",
    "            second_col_name = gFeatureCols[j]\n",
    "            r = spearmanr(gDataSet[first_col_name], gDataSet[second_col_name]).correlation\n",
    "            if abs(r) > CONST_CUTOFF_R:\n",
    "                new_colname = first_col_name + \"_div_\" + second_col_name\n",
    "                gDataSet[new_colname] = gDataSet[first_col_name] / (gDataSet[second_col_name] + 0.01)\n",
    "                gDataSetTest[new_colname] = gDataSetTest[first_col_name] / (gDataSetTest[second_col_name] + 0.01)\n",
    "                new_added_col.append(new_colname)\n",
    "    return new_added_col"
   ]
  },
  {
   "cell_type": "code",
   "execution_count": 330,
   "metadata": {},
   "outputs": [
    {
     "data": {
      "text/plain": [
       "['Id',\n",
       " 'LotArea',\n",
       " 'YearBuilt',\n",
       " 'YearRemodAdd',\n",
       " 'MasVnrArea',\n",
       " 'BsmtFinSF1',\n",
       " 'BsmtFinSF2',\n",
       " 'BsmtUnfSF',\n",
       " 'TotalBsmtSF',\n",
       " '1stFlrSF',\n",
       " '2ndFlrSF',\n",
       " 'LowQualFinSF',\n",
       " 'GrLivArea',\n",
       " 'BsmtFullBath',\n",
       " 'BsmtHalfBath',\n",
       " 'FullBath',\n",
       " 'HalfBath',\n",
       " 'BedroomAbvGr',\n",
       " 'KitchenAbvGr',\n",
       " 'TotRmsAbvGrd',\n",
       " 'Fireplaces',\n",
       " 'GarageCars',\n",
       " 'GarageArea',\n",
       " 'WoodDeckSF',\n",
       " 'OpenPorchSF',\n",
       " 'EnclosedPorch',\n",
       " '3SsnPorch',\n",
       " 'ScreenPorch',\n",
       " 'PoolArea',\n",
       " 'MiscVal',\n",
       " 'MoSold',\n",
       " 'YrSold',\n",
       " 'Alley_INT',\n",
       " 'BldgType_INT',\n",
       " 'BsmtCond_INT',\n",
       " 'BsmtExposure_INT',\n",
       " 'BsmtFinType1_INT',\n",
       " 'BsmtFinType2_INT',\n",
       " 'BsmtQual_INT',\n",
       " 'CentralAir_INT',\n",
       " 'Condition1_INT',\n",
       " 'Condition2_INT',\n",
       " 'Electrical_INT',\n",
       " 'ExterCond_INT',\n",
       " 'Exterior1st_INT',\n",
       " 'Exterior2nd_INT',\n",
       " 'ExterQual_INT',\n",
       " 'Fence_INT',\n",
       " 'FireplaceQu_INT',\n",
       " 'Foundation_INT',\n",
       " 'Functional_INT',\n",
       " 'GarageCond_INT',\n",
       " 'GarageFinish_INT',\n",
       " 'GarageQual_INT',\n",
       " 'GarageType_INT',\n",
       " 'Heating_INT',\n",
       " 'HeatingQC_INT',\n",
       " 'HouseStyle_INT',\n",
       " 'KitchenQual_INT',\n",
       " 'LandContour_INT',\n",
       " 'LandSlope_INT',\n",
       " 'LotConfig_INT',\n",
       " 'LotShape_INT',\n",
       " 'MasVnrType_INT',\n",
       " 'MiscFeature_INT',\n",
       " 'MSSubClass_INT',\n",
       " 'MSZoning_INT',\n",
       " 'Neighborhood_INT',\n",
       " 'OverallCond_INT',\n",
       " 'OverallQual_INT',\n",
       " 'PavedDrive_INT',\n",
       " 'PoolQC_INT',\n",
       " 'RoofMatl_INT',\n",
       " 'RoofStyle_INT',\n",
       " 'SaleCondition_INT',\n",
       " 'SaleType_INT',\n",
       " 'Street_INT',\n",
       " 'Utilities_INT',\n",
       " 'LotFrontage_Avg',\n",
       " 'GarageYrBlt_Oldest',\n",
       " 'LotRatio',\n",
       " 'LotArea_div_LotFrontage_Avg',\n",
       " 'YearBuilt_div_YearRemodAdd',\n",
       " 'YearBuilt_div_FullBath',\n",
       " 'YearBuilt_div_GarageCars',\n",
       " 'YearBuilt_div_GarageArea',\n",
       " 'YearBuilt_div_BsmtQual_INT',\n",
       " 'YearBuilt_div_ExterQual_INT',\n",
       " 'YearBuilt_div_Foundation_INT',\n",
       " 'YearBuilt_div_GarageFinish_INT',\n",
       " 'YearBuilt_div_OverallQual_INT',\n",
       " 'YearBuilt_div_GarageYrBlt_Oldest',\n",
       " 'YearRemodAdd_div_BsmtQual_INT',\n",
       " 'YearRemodAdd_div_ExterQual_INT',\n",
       " 'YearRemodAdd_div_Foundation_INT',\n",
       " 'YearRemodAdd_div_HeatingQC_INT',\n",
       " 'YearRemodAdd_div_KitchenQual_INT',\n",
       " 'YearRemodAdd_div_OverallQual_INT',\n",
       " 'YearRemodAdd_div_GarageYrBlt_Oldest',\n",
       " 'MasVnrArea_div_MasVnrType_INT',\n",
       " 'BsmtFinSF1_div_BsmtUnfSF',\n",
       " 'BsmtFinSF1_div_BsmtFullBath',\n",
       " 'BsmtFinSF1_div_BsmtFinType1_INT',\n",
       " 'BsmtFinSF2_div_BsmtFinType2_INT',\n",
       " 'BsmtUnfSF_div_BsmtFinType1_INT',\n",
       " 'TotalBsmtSF_div_1stFlrSF',\n",
       " '2ndFlrSF_div_GrLivArea',\n",
       " '2ndFlrSF_div_HalfBath',\n",
       " '2ndFlrSF_div_BedroomAbvGr',\n",
       " '2ndFlrSF_div_TotRmsAbvGrd',\n",
       " '2ndFlrSF_div_MSSubClass_INT',\n",
       " 'GrLivArea_div_FullBath',\n",
       " 'GrLivArea_div_BedroomAbvGr',\n",
       " 'GrLivArea_div_TotRmsAbvGrd',\n",
       " 'GrLivArea_div_GarageCars',\n",
       " 'GrLivArea_div_OverallQual_INT',\n",
       " 'FullBath_div_TotRmsAbvGrd',\n",
       " 'FullBath_div_GarageCars',\n",
       " 'FullBath_div_BsmtQual_INT',\n",
       " 'FullBath_div_OverallQual_INT',\n",
       " 'FullBath_div_GarageYrBlt_Oldest',\n",
       " 'BedroomAbvGr_div_TotRmsAbvGrd',\n",
       " 'GarageCars_div_GarageArea',\n",
       " 'GarageCars_div_BsmtQual_INT',\n",
       " 'GarageCars_div_ExterQual_INT',\n",
       " 'GarageCars_div_OverallQual_INT',\n",
       " 'GarageCars_div_GarageYrBlt_Oldest',\n",
       " 'GarageArea_div_GarageYrBlt_Oldest',\n",
       " 'PoolArea_div_PoolQC_INT',\n",
       " 'MiscVal_div_MiscFeature_INT',\n",
       " 'BsmtQual_INT_div_ExterQual_INT',\n",
       " 'BsmtQual_INT_div_Foundation_INT',\n",
       " 'BsmtQual_INT_div_OverallQual_INT',\n",
       " 'BsmtQual_INT_div_GarageYrBlt_Oldest',\n",
       " 'Exterior1st_INT_div_Exterior2nd_INT',\n",
       " 'ExterQual_INT_div_Foundation_INT',\n",
       " 'ExterQual_INT_div_HeatingQC_INT',\n",
       " 'ExterQual_INT_div_KitchenQual_INT',\n",
       " 'ExterQual_INT_div_OverallQual_INT',\n",
       " 'ExterQual_INT_div_GarageYrBlt_Oldest',\n",
       " 'Foundation_INT_div_GarageYrBlt_Oldest',\n",
       " 'GarageCond_INT_div_GarageQual_INT',\n",
       " 'KitchenQual_INT_div_OverallQual_INT',\n",
       " 'LandContour_INT_div_LandSlope_INT',\n",
       " 'OverallQual_INT_div_GarageYrBlt_Oldest',\n",
       " 'LotFrontage_Avg_div_LotRatio']"
      ]
     },
     "execution_count": 330,
     "metadata": {},
     "output_type": "execute_result"
    }
   ],
   "source": [
    "gFeatureCols = gFeatureCols + get_NewAddedCols()\n",
    "gFeatureCols"
   ]
  },
  {
   "cell_type": "markdown",
   "metadata": {},
   "source": [
    "<H3>説明変数（特徴量）</H3>"
   ]
  },
  {
   "cell_type": "code",
   "execution_count": 331,
   "metadata": {},
   "outputs": [
    {
     "data": {
      "text/html": [
       "<div>\n",
       "<style>\n",
       "    .dataframe thead tr:only-child th {\n",
       "        text-align: right;\n",
       "    }\n",
       "\n",
       "    .dataframe thead th {\n",
       "        text-align: left;\n",
       "    }\n",
       "\n",
       "    .dataframe tbody tr th {\n",
       "        vertical-align: top;\n",
       "    }\n",
       "</style>\n",
       "<table border=\"1\" class=\"dataframe\">\n",
       "  <thead>\n",
       "    <tr style=\"text-align: right;\">\n",
       "      <th></th>\n",
       "      <th>Id</th>\n",
       "      <th>LotArea</th>\n",
       "      <th>YearBuilt</th>\n",
       "      <th>YearRemodAdd</th>\n",
       "      <th>MasVnrArea</th>\n",
       "      <th>BsmtFinSF1</th>\n",
       "      <th>BsmtFinSF2</th>\n",
       "      <th>BsmtUnfSF</th>\n",
       "      <th>TotalBsmtSF</th>\n",
       "      <th>1stFlrSF</th>\n",
       "      <th>...</th>\n",
       "      <th>ExterQual_INT_div_HeatingQC_INT</th>\n",
       "      <th>ExterQual_INT_div_KitchenQual_INT</th>\n",
       "      <th>ExterQual_INT_div_OverallQual_INT</th>\n",
       "      <th>ExterQual_INT_div_GarageYrBlt_Oldest</th>\n",
       "      <th>Foundation_INT_div_GarageYrBlt_Oldest</th>\n",
       "      <th>GarageCond_INT_div_GarageQual_INT</th>\n",
       "      <th>KitchenQual_INT_div_OverallQual_INT</th>\n",
       "      <th>LandContour_INT_div_LandSlope_INT</th>\n",
       "      <th>OverallQual_INT_div_GarageYrBlt_Oldest</th>\n",
       "      <th>LotFrontage_Avg_div_LotRatio</th>\n",
       "    </tr>\n",
       "  </thead>\n",
       "  <tbody>\n",
       "    <tr>\n",
       "      <th>0</th>\n",
       "      <td>1</td>\n",
       "      <td>8450.0</td>\n",
       "      <td>2003</td>\n",
       "      <td>2003</td>\n",
       "      <td>196</td>\n",
       "      <td>706</td>\n",
       "      <td>0</td>\n",
       "      <td>150</td>\n",
       "      <td>856</td>\n",
       "      <td>856</td>\n",
       "      <td>...</td>\n",
       "      <td>2.970297</td>\n",
       "      <td>0.996678</td>\n",
       "      <td>0.374532</td>\n",
       "      <td>0.001498</td>\n",
       "      <td>0.001498</td>\n",
       "      <td>0.998336</td>\n",
       "      <td>0.374532</td>\n",
       "      <td>3.960396</td>\n",
       "      <td>0.003994</td>\n",
       "      <td>127.450980</td>\n",
       "    </tr>\n",
       "    <tr>\n",
       "      <th>1</th>\n",
       "      <td>2</td>\n",
       "      <td>9600.0</td>\n",
       "      <td>1976</td>\n",
       "      <td>1976</td>\n",
       "      <td>0</td>\n",
       "      <td>978</td>\n",
       "      <td>0</td>\n",
       "      <td>284</td>\n",
       "      <td>1262</td>\n",
       "      <td>1262</td>\n",
       "      <td>...</td>\n",
       "      <td>3.960396</td>\n",
       "      <td>0.997506</td>\n",
       "      <td>0.570613</td>\n",
       "      <td>0.002024</td>\n",
       "      <td>0.001012</td>\n",
       "      <td>0.998336</td>\n",
       "      <td>0.570613</td>\n",
       "      <td>3.960396</td>\n",
       "      <td>0.003542</td>\n",
       "      <td>118.226601</td>\n",
       "    </tr>\n",
       "    <tr>\n",
       "      <th>2</th>\n",
       "      <td>3</td>\n",
       "      <td>11250.0</td>\n",
       "      <td>2001</td>\n",
       "      <td>2002</td>\n",
       "      <td>162</td>\n",
       "      <td>486</td>\n",
       "      <td>0</td>\n",
       "      <td>434</td>\n",
       "      <td>920</td>\n",
       "      <td>920</td>\n",
       "      <td>...</td>\n",
       "      <td>2.970297</td>\n",
       "      <td>0.996678</td>\n",
       "      <td>0.374532</td>\n",
       "      <td>0.001499</td>\n",
       "      <td>0.001499</td>\n",
       "      <td>0.998336</td>\n",
       "      <td>0.374532</td>\n",
       "      <td>3.960396</td>\n",
       "      <td>0.003998</td>\n",
       "      <td>161.511665</td>\n",
       "    </tr>\n",
       "    <tr>\n",
       "      <th>3</th>\n",
       "      <td>4</td>\n",
       "      <td>9550.0</td>\n",
       "      <td>1915</td>\n",
       "      <td>1970</td>\n",
       "      <td>0</td>\n",
       "      <td>216</td>\n",
       "      <td>0</td>\n",
       "      <td>540</td>\n",
       "      <td>756</td>\n",
       "      <td>961</td>\n",
       "      <td>...</td>\n",
       "      <td>1.328904</td>\n",
       "      <td>1.328904</td>\n",
       "      <td>0.499376</td>\n",
       "      <td>0.002002</td>\n",
       "      <td>0.000500</td>\n",
       "      <td>0.998336</td>\n",
       "      <td>0.374532</td>\n",
       "      <td>3.960396</td>\n",
       "      <td>0.004004</td>\n",
       "      <td>155.053443</td>\n",
       "    </tr>\n",
       "    <tr>\n",
       "      <th>4</th>\n",
       "      <td>5</td>\n",
       "      <td>14260.0</td>\n",
       "      <td>2000</td>\n",
       "      <td>2000</td>\n",
       "      <td>350</td>\n",
       "      <td>655</td>\n",
       "      <td>0</td>\n",
       "      <td>490</td>\n",
       "      <td>1145</td>\n",
       "      <td>1145</td>\n",
       "      <td>...</td>\n",
       "      <td>2.970297</td>\n",
       "      <td>0.996678</td>\n",
       "      <td>0.332963</td>\n",
       "      <td>0.001500</td>\n",
       "      <td>0.001500</td>\n",
       "      <td>0.998336</td>\n",
       "      <td>0.332963</td>\n",
       "      <td>3.960396</td>\n",
       "      <td>0.004500</td>\n",
       "      <td>166.399022</td>\n",
       "    </tr>\n",
       "  </tbody>\n",
       "</table>\n",
       "<p>5 rows × 146 columns</p>\n",
       "</div>"
      ],
      "text/plain": [
       "   Id  LotArea  YearBuilt  YearRemodAdd  MasVnrArea  BsmtFinSF1  BsmtFinSF2  \\\n",
       "0   1   8450.0       2003          2003         196         706           0   \n",
       "1   2   9600.0       1976          1976           0         978           0   \n",
       "2   3  11250.0       2001          2002         162         486           0   \n",
       "3   4   9550.0       1915          1970           0         216           0   \n",
       "4   5  14260.0       2000          2000         350         655           0   \n",
       "\n",
       "   BsmtUnfSF  TotalBsmtSF  1stFlrSF              ...               \\\n",
       "0        150          856       856              ...                \n",
       "1        284         1262      1262              ...                \n",
       "2        434          920       920              ...                \n",
       "3        540          756       961              ...                \n",
       "4        490         1145      1145              ...                \n",
       "\n",
       "   ExterQual_INT_div_HeatingQC_INT  ExterQual_INT_div_KitchenQual_INT  \\\n",
       "0                         2.970297                           0.996678   \n",
       "1                         3.960396                           0.997506   \n",
       "2                         2.970297                           0.996678   \n",
       "3                         1.328904                           1.328904   \n",
       "4                         2.970297                           0.996678   \n",
       "\n",
       "   ExterQual_INT_div_OverallQual_INT  ExterQual_INT_div_GarageYrBlt_Oldest  \\\n",
       "0                           0.374532                              0.001498   \n",
       "1                           0.570613                              0.002024   \n",
       "2                           0.374532                              0.001499   \n",
       "3                           0.499376                              0.002002   \n",
       "4                           0.332963                              0.001500   \n",
       "\n",
       "   Foundation_INT_div_GarageYrBlt_Oldest  GarageCond_INT_div_GarageQual_INT  \\\n",
       "0                               0.001498                           0.998336   \n",
       "1                               0.001012                           0.998336   \n",
       "2                               0.001499                           0.998336   \n",
       "3                               0.000500                           0.998336   \n",
       "4                               0.001500                           0.998336   \n",
       "\n",
       "   KitchenQual_INT_div_OverallQual_INT  LandContour_INT_div_LandSlope_INT  \\\n",
       "0                             0.374532                           3.960396   \n",
       "1                             0.570613                           3.960396   \n",
       "2                             0.374532                           3.960396   \n",
       "3                             0.374532                           3.960396   \n",
       "4                             0.332963                           3.960396   \n",
       "\n",
       "   OverallQual_INT_div_GarageYrBlt_Oldest  LotFrontage_Avg_div_LotRatio  \n",
       "0                                0.003994                    127.450980  \n",
       "1                                0.003542                    118.226601  \n",
       "2                                0.003998                    161.511665  \n",
       "3                                0.004004                    155.053443  \n",
       "4                                0.004500                    166.399022  \n",
       "\n",
       "[5 rows x 146 columns]"
      ]
     },
     "execution_count": 331,
     "metadata": {},
     "output_type": "execute_result"
    }
   ],
   "source": [
    "gDataSet[gFeatureCols].head()"
   ]
  },
  {
   "cell_type": "markdown",
   "metadata": {},
   "source": [
    "<H3>被説明変数（ターゲット変数）</H3>"
   ]
  },
  {
   "cell_type": "code",
   "execution_count": 332,
   "metadata": {},
   "outputs": [
    {
     "data": {
      "text/plain": [
       "0    208500.0\n",
       "1    181500.0\n",
       "2    223500.0\n",
       "3    140000.0\n",
       "4    250000.0\n",
       "Name: SalePrice, dtype: float64"
      ]
     },
     "execution_count": 332,
     "metadata": {},
     "output_type": "execute_result"
    }
   ],
   "source": [
    "gDataSet[gTargetCol].head()"
   ]
  },
  {
   "cell_type": "markdown",
   "metadata": {},
   "source": [
    "<H3>機械学習アルゴリズムに投入するための NumPy 配列</H3>"
   ]
  },
  {
   "cell_type": "code",
   "execution_count": 333,
   "metadata": {},
   "outputs": [
    {
     "name": "stdout",
     "output_type": "stream",
     "text": [
      "53\n"
     ]
    }
   ],
   "source": [
    "#gIncludeCols = [\"Id\",\"LotArea\",\"YearBuilt\",\"MasVnrArea\",\"BsmtFinSF1\",\"TotalBsmtSF\",\"1stFlrSF\",\"2ndFlrSF\",\"GrLivArea\",\"TotRmsAbvGrd\",\"GarageArea\",\"OpenPorchSF\",\"CentralAir_INT\",\"Neighborhood_INT\",\"OverallCond_INT\",\"OverallQual_INT\",\"LotFrontage_Avg\",\"LotRatio\",\"LotArea_div_LotFrontage_Avg\",\"YearBuilt_div_FullBath\",\"YearBuilt_div_BsmtQual_INT\",\"YearBuilt_div_ExterQual_INT\",\"YearBuilt_div_GarageFinish_INT\",\"YearBuilt_div_OverallQual_INT\",\"YearRemodAdd_div_ExterQual_INT\",\"YearRemodAdd_div_KitchenQual_INT\",\"YearRemodAdd_div_OverallQual_INT\",\"BsmtFinSF1_div_BsmtUnfSF\",\"BsmtFinSF1_div_BsmtFullBath\",\"BsmtFinSF1_div_BsmtFinType1_INT\",\"GrLivArea_div_FullBath\",\"GrLivArea_div_BedroomAbvGr\",\"GrLivArea_div_TotRmsAbvGrd\",\"GrLivArea_div_GarageCars\",\"GrLivArea_div_OverallQual_INT\",\"FullBath_div_BsmtQual_INT\",\"FullBath_div_GarageYrBlt_Oldest\",\"GarageCars_div_GarageArea\",\"GarageCars_div_BsmtQual_INT\",\"GarageCars_div_ExterQual_INT\",\"GarageCars_div_OverallQual_INT\",\"GarageCars_div_GarageYrBlt_Oldest\",\"BsmtQual_INT_div_OverallQual_INT\",\"ExterQual_INT_div_OverallQual_INT\",\"ExterQual_INT_div_GarageYrBlt_Oldest\",\"KitchenQual_INT_div_OverallQual_INT\",\"OverallQual_INT_div_GarageYrBlt_Oldest\"]\n",
    "#51\n",
    "#gIncludeCols = [\"Id\",\"LotArea\",\"YearBuilt\",\"MasVnrArea\",\"BsmtFinSF1\",\"TotalBsmtSF\",\"1stFlrSF\",\"2ndFlrSF\",\"GrLivArea\",\"FullBath\",\"TotRmsAbvGrd\",\"GarageArea\",\"OpenPorchSF\",\"CentralAir_INT\",\"MSZoning_INT\",\"Neighborhood_INT\",\"OverallCond_INT\",\"OverallQual_INT\",\"LotFrontage_Avg\",\"LotRatio\",\"LotArea_div_LotFrontage_Avg\",\"YearBuilt_div_FullBath\",\"YearBuilt_div_BsmtQual_INT\",\"YearBuilt_div_ExterQual_INT\",\"YearBuilt_div_GarageFinish_INT\",\"YearBuilt_div_OverallQual_INT\",\"YearRemodAdd_div_BsmtQual_INT\",\"YearRemodAdd_div_ExterQual_INT\",\"YearRemodAdd_div_KitchenQual_INT\",\"YearRemodAdd_div_OverallQual_INT\",\"BsmtFinSF1_div_BsmtUnfSF\",\"BsmtFinSF1_div_BsmtFullBath\",\"BsmtFinSF1_div_BsmtFinType1_INT\",\"TotalBsmtSF_div_1stFlrSF\",\"GrLivArea_div_FullBath\",\"GrLivArea_div_BedroomAbvGr\",\"GrLivArea_div_TotRmsAbvGrd\",\"GrLivArea_div_GarageCars\",\"GrLivArea_div_OverallQual_INT\",\"FullBath_div_BsmtQual_INT\",\"FullBath_div_GarageYrBlt_Oldest\",\"GarageCars_div_GarageArea\",\"GarageCars_div_BsmtQual_INT\",\"GarageCars_div_ExterQual_INT\",\"GarageCars_div_OverallQual_INT\",\"GarageCars_div_GarageYrBlt_Oldest\",\"BsmtQual_INT_div_OverallQual_INT\",\"ExterQual_INT_div_OverallQual_INT\",\"ExterQual_INT_div_GarageYrBlt_Oldest\",\"KitchenQual_INT_div_OverallQual_INT\",\"OverallQual_INT_div_GarageYrBlt_Oldest\"]\n",
    "#53\n",
    "gIncludeCols = [\"Id\",\"LotArea\",\"YearBuilt\",\"MasVnrArea\",\"BsmtFinSF1\",\"BsmtUnfSF\",\"TotalBsmtSF\",\"1stFlrSF\",\"2ndFlrSF\",\"GrLivArea\",\"FullBath\",\"TotRmsAbvGrd\",\"GarageArea\",\"WoodDeckSF\",\"OpenPorchSF\",\"CentralAir_INT\",\"MSZoning_INT\",\"Neighborhood_INT\",\"OverallCond_INT\",\"OverallQual_INT\",\"LotFrontage_Avg\",\"LotRatio\",\"LotArea_div_LotFrontage_Avg\",\"YearBuilt_div_FullBath\",\"YearBuilt_div_BsmtQual_INT\",\"YearBuilt_div_ExterQual_INT\",\"YearBuilt_div_GarageFinish_INT\",\"YearBuilt_div_OverallQual_INT\",\"YearRemodAdd_div_BsmtQual_INT\",\"YearRemodAdd_div_ExterQual_INT\",\"YearRemodAdd_div_KitchenQual_INT\",\"YearRemodAdd_div_OverallQual_INT\",\"BsmtFinSF1_div_BsmtUnfSF\",\"BsmtFinSF1_div_BsmtFullBath\",\"BsmtFinSF1_div_BsmtFinType1_INT\",\"TotalBsmtSF_div_1stFlrSF\",\"GrLivArea_div_FullBath\",\"GrLivArea_div_BedroomAbvGr\",\"GrLivArea_div_TotRmsAbvGrd\",\"GrLivArea_div_GarageCars\",\"GrLivArea_div_OverallQual_INT\",\"FullBath_div_BsmtQual_INT\",\"FullBath_div_GarageYrBlt_Oldest\",\"GarageCars_div_GarageArea\",\"GarageCars_div_BsmtQual_INT\",\"GarageCars_div_ExterQual_INT\",\"GarageCars_div_OverallQual_INT\",\"GarageCars_div_GarageYrBlt_Oldest\",\"BsmtQual_INT_div_OverallQual_INT\",\"ExterQual_INT_div_OverallQual_INT\",\"ExterQual_INT_div_GarageYrBlt_Oldest\",\"KitchenQual_INT_div_OverallQual_INT\",\"OverallQual_INT_div_GarageYrBlt_Oldest\"]\n",
    "#14\n",
    "#gIncludeCols = [\"LotArea\",\"BsmtFinSF1\",\"TotalBsmtSF\",\"1stFlrSF\",\"GrLivArea\",\"YearBuilt_div_FullBath\",\"YearBuilt_div_ExterQual_INT\",\"YearBuilt_div_OverallQual_INT\",\"YearRemodAdd_div_OverallQual_INT\",\"FullBath_div_BsmtQual_INT\",\"GarageCars_div_BsmtQual_INT\",\"GarageCars_div_ExterQual_INT\",\"ExterQual_INT_div_OverallQual_INT\",\"OverallQual_INT_div_GarageYrBlt_Oldest\"]\n",
    "gFeatureCols = gIncludeCols\n",
    "#gFeatureCols = [col for col in gDataSet.columns if col in gIncludeCols]\n",
    "\n",
    "# DEBUG\n",
    "print(len(gFeatureCols))\n",
    "\n",
    "#被説明変数（ターゲット変数）のベクトル\n",
    "gY = np.array(gDataSet[gTargetCol])\n",
    "#NumPyの配列に直した特徴量の行列\n",
    "gX = np.array(gDataSet[gFeatureCols])\n",
    "gRealXTest = np.array(gDataSetTest[gFeatureCols])"
   ]
  },
  {
   "cell_type": "code",
   "execution_count": 334,
   "metadata": {
    "collapsed": true
   },
   "outputs": [],
   "source": [
    "# 学習データを70%(X_train, y_train)、テストデータを30%(X_test, y_test)に分割\n",
    "gX_train, gX_test, gY_train, gY_test = train_test_split(gX, gY, test_size=CONST_TEST_SIZE, random_state=CONST_RANDOM_STATE)"
   ]
  },
  {
   "cell_type": "markdown",
   "metadata": {},
   "source": [
    "<H3>ランダムフォレストの実行</H3>"
   ]
  },
  {
   "cell_type": "markdown",
   "metadata": {},
   "source": [
    "<h5>ランダムフォレストの適合</h4>"
   ]
  },
  {
   "cell_type": "code",
   "execution_count": 335,
   "metadata": {
    "collapsed": true
   },
   "outputs": [],
   "source": [
    "def GetRmsle(real, predicted):\n",
    "    sum=0.0\n",
    "    for x in range(len(predicted)):\n",
    "        p = np.log(predicted[x]+1)\n",
    "        r = np.log(real[x]+1)\n",
    "        sum = sum + (p - r)**2\n",
    "    return (sum/len(predicted))**0.5"
   ]
  },
  {
   "cell_type": "markdown",
   "metadata": {},
   "source": [
    "<h2>7. テストデータへ適用して精度を確認する</h2>"
   ]
  },
  {
   "cell_type": "markdown",
   "metadata": {},
   "source": [
    "<h3>モデルの学習</h3>"
   ]
  },
  {
   "cell_type": "code",
   "execution_count": 336,
   "metadata": {},
   "outputs": [
    {
     "name": "stdout",
     "output_type": "stream",
     "text": [
      "0.148332608153\n",
      "0.148332608153\n",
      "{'n_estimators': 225, 'max_depth': 15}\n",
      "y_pred_on_test\n",
      "[ 125086.27982098  161205.24126984  180683.79528965 ...,  154484.58259259\n",
      "  107830.9527562   229577.60992593]\n"
     ]
    }
   ],
   "source": [
    "#モデルの作成\n",
    "model = RandomForestRegressor(random_state=CONST_RANDOM_STATE, n_estimators=gRfParams['n_estimators'], max_depth=gRfParams['max_depth'], n_jobs=CONST_N_JOBS)\n",
    "model.fit(gX_train, gY_train)\n",
    "y_pred = model.predict(gX_test)\n",
    "rmsle = GetRmsle(gY_test, y_pred)\n",
    "print(rmsle)\n",
    "\n",
    "### 4. パラメーターチューニング ###\n",
    "gscv = GridSearchCV(model, param_grid=CONST_GRID_SEARCH_PARAMS, scoring='neg_mean_squared_log_error')\n",
    "gscv.fit(gX_train, gY_train)\n",
    "gRfParams['n_estimators'] = gscv.best_params_['n_estimators']\n",
    "gRfParams['max_depth'] = gscv.best_params_['max_depth']\n",
    "model = RandomForestRegressor(random_state=CONST_RANDOM_STATE, n_estimators=gRfParams['n_estimators'], max_depth=gRfParams['max_depth'], n_jobs=CONST_N_JOBS)\n",
    "model.fit(gX_train, gY_train)\n",
    "y_pred = model.predict(gX_test)\n",
    "rmsle = GetRmsle(gY_test, y_pred)\n",
    "print(rmsle)\n",
    "print(gRfParams)\n",
    "\n",
    "# 予測値の導出\n",
    "y_pred_on_test = model.predict(gRealXTest)\n",
    "# 予測値の出力\n",
    "f = open('D:\\\\DataMix\\\\08.170909\\\\House Prices Advanced Regression Techniques\\\\dataset\\\\y_pred_on_test.txt', 'w')\n",
    "for x in y_pred_on_test:\n",
    "    f.write(str(x) + \"\\n\")\n",
    "f.close()\n",
    "# DEBUG\n",
    "print('y_pred_on_test')\n",
    "print(y_pred_on_test)"
   ]
  },
  {
   "cell_type": "code",
   "execution_count": null,
   "metadata": {
    "collapsed": true
   },
   "outputs": [],
   "source": []
  },
  {
   "cell_type": "code",
   "execution_count": null,
   "metadata": {
    "collapsed": true
   },
   "outputs": [],
   "source": []
  }
 ],
 "metadata": {
  "anaconda-cloud": {},
  "kernelspec": {
   "display_name": "Python 3",
   "language": "python",
   "name": "python3"
  },
  "language_info": {
   "codemirror_mode": {
    "name": "ipython",
    "version": 3
   },
   "file_extension": ".py",
   "mimetype": "text/x-python",
   "name": "python",
   "nbconvert_exporter": "python",
   "pygments_lexer": "ipython3",
   "version": "3.6.0"
  }
 },
 "nbformat": 4,
 "nbformat_minor": 1
}
